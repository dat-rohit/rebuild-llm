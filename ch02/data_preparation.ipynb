{
 "cells": [
  {
   "cell_type": "markdown",
   "metadata": {},
   "source": [
    "Text Tokenization"
   ]
  },
  {
   "cell_type": "code",
   "execution_count": 1,
   "metadata": {},
   "outputs": [
    {
     "name": "stdout",
     "output_type": "stream",
     "text": [
      "Total nb of char:  8927\n",
      "I HAD always thought Jack Gisburn rather a cheap g\n"
     ]
    }
   ],
   "source": [
    "with open(\"the-verdict.txt\", \"r\", encoding=\"utf-8\") as f:\n",
    "    raw_text = f.read()\n",
    "\n",
    "print(\"Total nb of char: \", len(raw_text))\n",
    "print(raw_text[:50])"
   ]
  },
  {
   "cell_type": "code",
   "execution_count": 2,
   "metadata": {},
   "outputs": [
    {
     "name": "stdout",
     "output_type": "stream",
     "text": [
      "['I', 'HAD', 'always', 'thought', 'Jack', 'Gisburn', 'rather', 'a', 'cheap', 'genius']\n",
      "Number of tokens:  1932\n"
     ]
    }
   ],
   "source": [
    "import re\n",
    "processed = re.split(r'([,.?_!\"()\\']|--|\\s)', raw_text)\n",
    "processed = [item.strip() for item in processed if item.strip()]\n",
    "\n",
    "print(processed[:10])\n",
    "print(\"Number of tokens: \", len(processed))"
   ]
  },
  {
   "cell_type": "markdown",
   "metadata": {},
   "source": [
    "Create Dictionnary\n"
   ]
  },
  {
   "cell_type": "code",
   "execution_count": 3,
   "metadata": {},
   "outputs": [
    {
     "name": "stdout",
     "output_type": "stream",
     "text": [
      "Dictionnary size:  688\n"
     ]
    }
   ],
   "source": [
    "all_tokens = sorted(list(set(processed)))\n",
    "all_tokens.extend([\"<|endoftext|>\", \"<|unk|>\"])\n",
    "print(\"Dictionnary size: \", len(all_tokens))"
   ]
  },
  {
   "cell_type": "code",
   "execution_count": 4,
   "metadata": {},
   "outputs": [
    {
     "name": "stdout",
     "output_type": "stream",
     "text": [
      "('!', 0)\n",
      "('\"', 1)\n",
      "(\"'\", 2)\n",
      "('(', 3)\n"
     ]
    }
   ],
   "source": [
    "dict = {token:integer for integer, token in enumerate(all_tokens)}\n",
    "\n",
    "for i, item in enumerate(dict.items()):\n",
    "    print(item)\n",
    "    if i==3:\n",
    "        break"
   ]
  },
  {
   "cell_type": "code",
   "execution_count": 5,
   "metadata": {},
   "outputs": [],
   "source": [
    "class Tokenizer:\n",
    "    def __init__(self, dict):\n",
    "        self.str_to_int = dict\n",
    "        self.int_to_str = {integer:token for token, integer in dict.items()}\n",
    "    \n",
    "    def encode(self, text):\n",
    "        processed = re.split(r'([,.?_!\"()\\']|--|\\s)', text)\n",
    "        processed = [item.strip() for item in processed if item.strip()]  \n",
    "        processed = [item if item in self.str_to_int \n",
    "                     else \"<|unk|>\" for item in processed]\n",
    "        encoded = [self.str_to_int[t] for t in processed]   \n",
    "        return encoded\n",
    "\n",
    "    def decode(self, encoded):\n",
    "        decoded = ([self.int_to_str[i] for i in encoded])\n",
    "        text = re.sub(r'\\s+([,.?!\"()\\'])', r'\\1', \" \".join(decoded))\n",
    "        return text   "
   ]
  },
  {
   "cell_type": "code",
   "execution_count": 6,
   "metadata": {},
   "outputs": [
    {
     "name": "stdout",
     "output_type": "stream",
     "text": [
      "Query text: \"the genius\"\n",
      "Encoded representation:  [687, 5, 687, 683, 381, 591, 9, 686, 40, 599, 581, 597, 444]\n",
      "Decoded representation:  <|unk|>, <|unk|> you like tea? <|endoftext|> In the sunlit terraces of\n"
     ]
    }
   ],
   "source": [
    "tokenizer = Tokenizer(dict=dict)\n",
    "\n",
    "encoded = tokenizer.encode(\"Hello, do you like tea? <|endoftext|> In the sunlit terraces of\")\n",
    "\n",
    "print(\"Query text: \\\"the genius\\\"\")\n",
    "print(\"Encoded representation: \", encoded)\n",
    "\n",
    "print(\"Decoded representation: \", tokenizer.decode(encoded=encoded))"
   ]
  },
  {
   "cell_type": "markdown",
   "metadata": {},
   "source": [
    "Data Sampling\n"
   ]
  },
  {
   "cell_type": "code",
   "execution_count": 7,
   "metadata": {},
   "outputs": [],
   "source": [
    "import torch\n",
    "from torch.utils.data import Dataset, DataLoader\n",
    "\n",
    "class GPTDatasetV1(Dataset):\n",
    "    def __init__(self, txt, tokenizer, max_length, stride):\n",
    "        self.tokenizer = tokenizer\n",
    "        self.input_ids = []\n",
    "        self.target_ids = []\n",
    "        token_ids = tokenizer.encode(txt) \n",
    "\n",
    "        for i in range(0, len(token_ids) - max_length, stride): \n",
    "            input_chunk = token_ids[i:i + max_length]\n",
    "            target_chunk = token_ids[i + 1: i + max_length + 1]\n",
    "            self.input_ids.append(torch.tensor(input_chunk))\n",
    "            self.target_ids.append(torch.tensor(target_chunk))\n",
    "\n",
    "    def __len__(self): \n",
    "        return len(self.input_ids)\n",
    "    \n",
    "    def __getitem__(self, idx): \n",
    "        return self.input_ids[idx], self.target_ids[idx]"
   ]
  },
  {
   "cell_type": "code",
   "execution_count": 13,
   "metadata": {},
   "outputs": [],
   "source": [
    "def create_dataloader_v1(txt, batch_size=4, max_length=256, stride=128, shuffle=True, drop_last=True, num_workers=0, tokenizer=tokenizer):\n",
    "    \n",
    "    dataset = GPTDatasetV1(txt, tokenizer, max_length, stride) \n",
    "    dataloader = DataLoader(dataset, batch_size=batch_size, shuffle=shuffle, drop_last=drop_last, num_workers=num_workers)\n",
    "\n",
    "    return dataloader"
   ]
  },
  {
   "cell_type": "code",
   "execution_count": 35,
   "metadata": {},
   "outputs": [
    {
     "name": "stdout",
     "output_type": "stream",
     "text": [
      "tensor([[ 38,  32,  98, 610],\n",
      "        [ 42,  27, 499,  79],\n",
      "        [165, 291,   6, 609],\n",
      "        [ 79, 300, 264, 233],\n",
      "        [  6, 558, 357, 648],\n",
      "        [434, 304, 583, 618],\n",
      "        [405, 618, 320, 598],\n",
      "        [  5, 345, 599, 322]])\n",
      "---------\n",
      "tensor([[ 32,  98, 610,  42],\n",
      "        [ 27, 499,  79, 165],\n",
      "        [291,   6, 609,  79],\n",
      "        [300, 264, 233,   6],\n",
      "        [558, 357, 648, 434],\n",
      "        [304, 583, 618, 405],\n",
      "        [618, 320, 598,   5],\n",
      "        [345, 599, 322, 444]])\n"
     ]
    }
   ],
   "source": [
    "dataloader = create_dataloader_v1(raw_text, batch_size=8, max_length=4, stride=4, shuffle=False, tokenizer=tokenizer)\n",
    "\n",
    "data_iter = iter(dataloader)\n",
    "inputs, targets = next(data_iter)\n",
    "\n",
    "print(inputs)\n",
    "print(\"---------\")\n",
    "print(targets)\n"
   ]
  },
  {
   "cell_type": "markdown",
   "metadata": {},
   "source": [
    "Token Embeddings"
   ]
  },
  {
   "cell_type": "code",
   "execution_count": 36,
   "metadata": {},
   "outputs": [
    {
     "name": "stdout",
     "output_type": "stream",
     "text": [
      "Parameter containing:\n",
      "tensor([[-0.2270,  0.6249, -1.2040,  ..., -0.1511, -1.0461, -1.5423],\n",
      "        [ 1.2515, -1.2363,  0.8511,  ...,  1.7950, -0.0461,  1.4169],\n",
      "        [-0.2111, -0.3469,  2.2331,  ...,  0.6392,  0.0870, -0.7028],\n",
      "        ...,\n",
      "        [ 0.6817,  0.0283,  1.0346,  ...,  0.2347, -0.5353, -0.5308],\n",
      "        [-1.5149, -0.7071, -1.0507,  ...,  0.1661, -1.9508, -0.7107],\n",
      "        [-2.0615, -0.2337, -0.2401,  ..., -0.3575,  1.7436,  0.2813]],\n",
      "       requires_grad=True)\n",
      "torch.Size([8, 4, 256])\n"
     ]
    }
   ],
   "source": [
    "vocab_size=torch.tensor([688])\n",
    "output_dim=torch.tensor([256])\n",
    "\n",
    "token_embedding_layer = torch.nn.Embedding(vocab_size, output_dim)\n",
    "print(token_embedding_layer.weight)\n",
    "\n",
    "token_embeddings = token_embedding_layer(inputs)\n",
    "print(token_embeddings.shape)\n"
   ]
  },
  {
   "cell_type": "code",
   "execution_count": 38,
   "metadata": {},
   "outputs": [
    {
     "name": "stdout",
     "output_type": "stream",
     "text": [
      "torch.Size([4, 256])\n",
      "torch.Size([8, 4, 256])\n"
     ]
    }
   ],
   "source": [
    "context_length = 4\n",
    "pos_embedding_layer = torch.nn.Embedding(context_length, output_dim)\n",
    "\n",
    "pos_embeddings = pos_embedding_layer(torch.arange(context_length))\n",
    "print(pos_embeddings.shape)\n",
    "\n",
    "input_embeddings = token_embeddings + pos_embeddings\n",
    "\n",
    "print(input_embeddings.shape)"
   ]
  }
 ],
 "metadata": {
  "kernelspec": {
   "display_name": "tf14",
   "language": "python",
   "name": "tf14"
  },
  "language_info": {
   "codemirror_mode": {
    "name": "ipython",
    "version": 3
   },
   "file_extension": ".py",
   "mimetype": "text/x-python",
   "name": "python",
   "nbconvert_exporter": "python",
   "pygments_lexer": "ipython3",
   "version": "3.7.11"
  }
 },
 "nbformat": 4,
 "nbformat_minor": 2
}
