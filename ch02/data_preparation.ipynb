{
 "cells": [
  {
   "cell_type": "markdown",
   "metadata": {},
   "source": [
    "Text Tokenization"
   ]
  },
  {
   "cell_type": "code",
   "execution_count": 1,
   "metadata": {},
   "outputs": [
    {
     "name": "stdout",
     "output_type": "stream",
     "text": [
      "Total nb of char:  8927\n",
      "I HAD always thought Jack Gisburn rather a cheap g\n"
     ]
    }
   ],
   "source": [
    "with open(\"the-verdict.txt\", \"r\", encoding=\"utf-8\") as f:\n",
    "    raw_text = f.read()\n",
    "\n",
    "print(\"Total nb of char: \", len(raw_text))\n",
    "print(raw_text[:50])"
   ]
  },
  {
   "cell_type": "code",
   "execution_count": 2,
   "metadata": {},
   "outputs": [
    {
     "name": "stdout",
     "output_type": "stream",
     "text": [
      "['I', 'HAD', 'always', 'thought', 'Jack', 'Gisburn', 'rather', 'a', 'cheap', 'genius']\n",
      "Number of tokens:  1932\n"
     ]
    }
   ],
   "source": [
    "import re\n",
    "processed = re.split(r'([,.?_!\"()\\']|--|\\s)', raw_text)\n",
    "processed = [item.strip() for item in processed if item.strip()]\n",
    "\n",
    "print(processed[:10])\n",
    "print(\"Number of tokens: \", len(processed))"
   ]
  },
  {
   "cell_type": "markdown",
   "metadata": {},
   "source": [
    "Create Dictionnary\n"
   ]
  },
  {
   "cell_type": "code",
   "execution_count": 3,
   "metadata": {},
   "outputs": [
    {
     "name": "stdout",
     "output_type": "stream",
     "text": [
      "Dictionnary size:  688\n"
     ]
    }
   ],
   "source": [
    "all_tokens = sorted(list(set(processed)))\n",
    "all_tokens.extend([\"<|endoftext|>\", \"<|unk|>\"])\n",
    "print(\"Dictionnary size: \", len(all_tokens))"
   ]
  },
  {
   "cell_type": "code",
   "execution_count": 4,
   "metadata": {},
   "outputs": [
    {
     "name": "stdout",
     "output_type": "stream",
     "text": [
      "('!', 0)\n",
      "('\"', 1)\n",
      "(\"'\", 2)\n",
      "('(', 3)\n"
     ]
    }
   ],
   "source": [
    "dict = {token:integer for integer, token in enumerate(all_tokens)}\n",
    "\n",
    "for i, item in enumerate(dict.items()):\n",
    "    print(item)\n",
    "    if i==3:\n",
    "        break"
   ]
  },
  {
   "cell_type": "code",
   "execution_count": 5,
   "metadata": {},
   "outputs": [],
   "source": [
    "class Tokenizer:\n",
    "    def __init__(self, dict):\n",
    "        self.str_to_int = dict\n",
    "        self.int_to_str = {integer:token for token, integer in dict.items()}\n",
    "    \n",
    "    def encode(self, text):\n",
    "        processed = re.split(r'([,.?_!\"()\\']|--|\\s)', text)\n",
    "        processed = [item.strip() for item in processed if item.strip()]  \n",
    "        processed = [item if item in self.str_to_int \n",
    "                     else \"<|unk|>\" for item in processed]\n",
    "        encoded = [self.str_to_int[t] for t in processed]   \n",
    "        return encoded\n",
    "\n",
    "    def decode(self, encoded):\n",
    "        decoded = ([self.int_to_str[i] for i in encoded])\n",
    "        text = re.sub(r'\\s+([,.?!\"()\\'])', r'\\1', \" \".join(decoded))\n",
    "        return text   "
   ]
  },
  {
   "cell_type": "code",
   "execution_count": 6,
   "metadata": {},
   "outputs": [
    {
     "name": "stdout",
     "output_type": "stream",
     "text": [
      "Query text: \"the genius\"\n",
      "Encoded representation:  [687, 5, 687, 683, 381, 591, 9, 686, 40, 599, 581, 597, 444]\n",
      "Decoded representation:  <|unk|>, <|unk|> you like tea? <|endoftext|> In the sunlit terraces of\n"
     ]
    }
   ],
   "source": [
    "tokenizer = Tokenizer(dict=dict)\n",
    "\n",
    "encoded = tokenizer.encode(\"Hello, do you like tea? <|endoftext|> In the sunlit terraces of\")\n",
    "\n",
    "print(\"Query text: \\\"the genius\\\"\")\n",
    "print(\"Encoded representation: \", encoded)\n",
    "\n",
    "print(\"Decoded representation: \", tokenizer.decode(encoded=encoded))"
   ]
  },
  {
   "cell_type": "markdown",
   "metadata": {},
   "source": [
    "Data Sampling\n"
   ]
  },
  {
   "cell_type": "code",
   "execution_count": 7,
   "metadata": {},
   "outputs": [],
   "source": [
    "import torch\n",
    "from torch.utils.data import Dataset, DataLoader\n",
    "\n",
    "class GPTDatasetV1(Dataset):\n",
    "    def __init__(self, txt, tokenizer, max_length, stride):\n",
    "        self.tokenizer = tokenizer\n",
    "        self.input_ids = []\n",
    "        self.target_ids = []\n",
    "        token_ids = tokenizer.encode(txt) \n",
    "\n",
    "        for i in range(0, len(token_ids) - max_length, stride): \n",
    "            input_chunk = token_ids[i:i + max_length]\n",
    "            target_chunk = token_ids[i + 1: i + max_length + 1]\n",
    "            self.input_ids.append(torch.tensor(input_chunk))\n",
    "            self.target_ids.append(torch.tensor(target_chunk))\n",
    "\n",
    "    def __len__(self): \n",
    "        return len(self.input_ids)\n",
    "    \n",
    "    def __getitem__(self, idx): \n",
    "        return self.input_ids[idx], self.target_ids[idx]"
   ]
  },
  {
   "cell_type": "code",
   "execution_count": null,
   "metadata": {},
   "outputs": [],
   "source": [
    "def create_dataloader_v1(txt, batch_size=4,\n",
    "max_length=256, stride=128, shuffle=True, drop_last=True, num_workers=0):\n",
    "    tokenizer = tokenizer\n",
    "    dataset = GPTDatasetV1(txt, tokenizer, max_length, stride) #B\n",
    "    dataloader = DataLoader(dataset, batch_size=batch_size, shuffle=shuffle, drop_last=drop_last, num_workers=num_workers)\n",
    "\n",
    "    return dataloader"
   ]
  }
 ],
 "metadata": {
  "kernelspec": {
   "display_name": "tf14",
   "language": "python",
   "name": "tf14"
  },
  "language_info": {
   "codemirror_mode": {
    "name": "ipython",
    "version": 3
   },
   "file_extension": ".py",
   "mimetype": "text/x-python",
   "name": "python",
   "nbconvert_exporter": "python",
   "pygments_lexer": "ipython3",
   "version": "3.7.11"
  }
 },
 "nbformat": 4,
 "nbformat_minor": 2
}
